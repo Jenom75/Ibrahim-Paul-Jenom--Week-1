{
 "cells": [
  {
   "cell_type": "markdown",
   "id": "711979f2-8900-4286-9fa3-9ba83d8b4a5f",
   "metadata": {},
   "source": [
    "# Introduction to Jupyter Notebook\n",
    "This notebook demonstrates basic functionality in Jupyter Notebook, including markdown, Python code execution, and exporting files.\n"
   ]
  },
  {
   "cell_type": "markdown",
   "id": "f62b5a59-062d-461c-90f4-a170038d5e28",
   "metadata": {},
   "source": [
    "## Features of Jupyter Notebook\n",
    "1. Supports Python and other programming languages.\n",
    "2. Allows visualization and data analysis.\n",
    "3. Facilitates interactive learning.\n",
    "\n",
    "- Advantages:\n",
    "  - Open-source and free.\n",
    "  - Easy to use for beginners.\n",
    "  - Supports extensions for advanced tasks.\n"
   ]
  },
  {
   "cell_type": "code",
   "execution_count": 4,
   "id": "9725079f-baf5-4da8-8f23-7bcdbfa7b736",
   "metadata": {},
   "outputs": [
    {
     "name": "stdout",
     "output_type": "stream",
     "text": [
      "Hello, World!\n"
     ]
    }
   ],
   "source": [
    "print(\"Hello, World!\")\n"
   ]
  },
  {
   "cell_type": "markdown",
   "id": "1c28f05a-8b5f-45ab-b7c0-8231fd0b1e08",
   "metadata": {},
   "source": [
    "### Learn More About Jupyter Notebook\n",
    "[Visit Jupyter's official website](https://jupyter.org)\n",
    "\n",
    "![Python Logo](https://www.python.org/static/community_logos/python-logo.png)\n"
   ]
  },
  {
   "cell_type": "code",
   "execution_count": 6,
   "id": "1cd3587c-48df-4d4e-9989-1be49f0801e5",
   "metadata": {},
   "outputs": [
    {
     "name": "stdout",
     "output_type": "stream",
     "text": [
      "Addition: 15\n",
      "Subtraction: 5\n"
     ]
    }
   ],
   "source": [
    "# Perform addition and subtraction\n",
    "num1 = 10\n",
    "num2 = 5\n",
    "print(\"Addition:\", num1 + num2)\n",
    "print(\"Subtraction:\", num1 - num2)\n"
   ]
  },
  {
   "cell_type": "code",
   "execution_count": 8,
   "id": "e1319a3a-e477-4fe9-8595-41aaaac550a9",
   "metadata": {},
   "outputs": [
    {
     "name": "stdout",
     "output_type": "stream",
     "text": [
      "Help on built-in function print in module builtins:\n",
      "\n",
      "print(*args, sep=' ', end='\\n', file=None, flush=False)\n",
      "    Prints the values to a stream, or to sys.stdout by default.\n",
      "\n",
      "    sep\n",
      "      string inserted between values, default a space.\n",
      "    end\n",
      "      string appended after the last value, default a newline.\n",
      "    file\n",
      "      a file-like object (stream); defaults to the current sys.stdout.\n",
      "    flush\n",
      "      whether to forcibly flush the stream.\n",
      "\n"
     ]
    }
   ],
   "source": [
    "help(print)\n"
   ]
  },
  {
   "cell_type": "code",
   "execution_count": 10,
   "id": "b3089428-169f-4b13-b4b3-dd51d9d82475",
   "metadata": {},
   "outputs": [
    {
     "name": "stdout",
     "output_type": "stream",
     "text": [
      "Addition Result: 22\n",
      "Subtraction Result: 8\n"
     ]
    }
   ],
   "source": [
    "# This code performs basic arithmetic operations\n",
    "# It demonstrates how to add and subtract two numbers in Python\n",
    "num1 = 15\n",
    "num2 = 7\n",
    "print(\"Addition Result:\", num1 + num2)\n",
    "print(\"Subtraction Result:\", num1 - num2)\n"
   ]
  },
  {
   "cell_type": "code",
   "execution_count": 12,
   "id": "d68716e7-68b5-4afa-b76d-34fa8ca66e72",
   "metadata": {},
   "outputs": [
    {
     "name": "stdout",
     "output_type": "stream",
     "text": [
      "CPU times: total: 0 ns\n",
      "Wall time: 0 ns\n",
      "a\t b\t num1\t num2\t \n"
     ]
    }
   ],
   "source": [
    "# Measure execution time\n",
    "%time sum(range(1000))\n",
    "\n",
    "# List variables in the current environment\n",
    "%who\n"
   ]
  },
  {
   "cell_type": "markdown",
   "id": "bfec1951-29cf-4f42-9b88-4ed15b221953",
   "metadata": {},
   "source": [
    "| Name    | Age | Profession  |\n",
    "|---------|-----|-------------|\n",
    "| Alice   | 30  | Data Scientist |\n",
    "| Bob     | 25  | Analyst     |\n",
    "| Charlie | 35  | Engineer    |\n"
   ]
  },
  {
   "cell_type": "code",
   "execution_count": 3,
   "id": "ce18f9b5-f825-4fe0-8a3c-a97569d28595",
   "metadata": {},
   "outputs": [
    {
     "name": "stdout",
     "output_type": "stream",
     "text": [
      "<class 'int'>\n"
     ]
    }
   ],
   "source": [
    "print(type(42))"
   ]
  },
  {
   "cell_type": "code",
   "execution_count": 5,
   "id": "6ff44884-f868-4710-9bf5-6bb24cbf6ab0",
   "metadata": {},
   "outputs": [
    {
     "name": "stdout",
     "output_type": "stream",
     "text": [
      "<class 'float'>\n"
     ]
    }
   ],
   "source": [
    "print(type(3.12))"
   ]
  },
  {
   "cell_type": "code",
   "execution_count": 7,
   "id": "9e92c380-1742-487a-9b9a-b86bff0dd587",
   "metadata": {},
   "outputs": [
    {
     "name": "stdout",
     "output_type": "stream",
     "text": [
      "<class 'str'>\n"
     ]
    }
   ],
   "source": [
    "print(type('python'))"
   ]
  },
  {
   "cell_type": "code",
   "execution_count": 10,
   "id": "a6aa9779-3dff-4b1e-8597-52d45e5a64c4",
   "metadata": {},
   "outputs": [
    {
     "name": "stdout",
     "output_type": "stream",
     "text": [
      "<class 'list'>\n"
     ]
    }
   ],
   "source": [
    "print(type([1,2,3]))"
   ]
  },
  {
   "cell_type": "code",
   "execution_count": 12,
   "id": "60fdc5ed-a3ab-46da-906e-c079c00bbc3c",
   "metadata": {},
   "outputs": [
    {
     "name": "stdout",
     "output_type": "stream",
     "text": [
      "<class 'dict'>\n"
     ]
    }
   ],
   "source": [
    "print(type({ \"name\": \"John\", \"age\": 30 }))"
   ]
  },
  {
   "cell_type": "code",
   "execution_count": 16,
   "id": "834c4b6b-7365-4c9c-99d6-596df5bacad5",
   "metadata": {},
   "outputs": [
    {
     "name": "stdout",
     "output_type": "stream",
     "text": [
      "42.0\n",
      "42\n",
      "<class 'float'>\n",
      "<class 'str'>\n"
     ]
    }
   ],
   "source": [
    "num = 42\n",
    "float_num = float(num)\n",
    "str_num = str(num)\n",
    "print(float_num)  \n",
    "print(str_num)    \n",
    "print(type(float_num))\n",
    "print(type(str_num))"
   ]
  },
  {
   "cell_type": "code",
   "execution_count": 18,
   "id": "ef1c7ca8-9788-4b3b-95df-639296c707e2",
   "metadata": {},
   "outputs": [
    {
     "name": "stdout",
     "output_type": "stream",
     "text": [
      "<class 'list'>\n"
     ]
    }
   ],
   "source": [
    "fruits = [\"Apple\", \"Banana\", \"Cherry\", \"Mango\", \"Orange\"]\n",
    "print(type(fruits))\n"
   ]
  },
  {
   "cell_type": "code",
   "execution_count": 49,
   "id": "cef34f2d-27f9-479e-9eff-40944645134a",
   "metadata": {},
   "outputs": [
    {
     "name": "stdout",
     "output_type": "stream",
     "text": [
      "The variable is of type str.\n"
     ]
    }
   ],
   "source": [
    "variable = \"Python\"\n",
    "if isinstance(variable, str):\n",
    "    print(\"The variable is of type str.\")\n"
   ]
  },
  {
   "cell_type": "code",
   "execution_count": 22,
   "id": "5bc8c07f-7acc-4fbd-9d60-d04bd11db6a4",
   "metadata": {},
   "outputs": [
    {
     "name": "stdout",
     "output_type": "stream",
     "text": [
      "Python\n"
     ]
    }
   ],
   "source": [
    "my_tuple = (42, \"Python\", 3.14)\n",
    "print(my_tuple[1])  \n"
   ]
  },
  {
   "cell_type": "code",
   "execution_count": 24,
   "id": "f777ab4c-763c-4e34-b305-026e266f4cd8",
   "metadata": {},
   "outputs": [
    {
     "name": "stdout",
     "output_type": "stream",
     "text": [
      "25\n"
     ]
    }
   ],
   "source": [
    "my_dict = {\"name\": \"Alice\", \"age\": 25, \"city\": \"New York\"}\n",
    "print(my_dict[\"age\"]) \n",
    "\n"
   ]
  },
  {
   "cell_type": "code",
   "execution_count": 26,
   "id": "8076017b-a2f1-45f0-bbbf-4e3a0a8c6f0b",
   "metadata": {},
   "outputs": [
    {
     "name": "stdout",
     "output_type": "stream",
     "text": [
      "<class 'int'>\n",
      "<class 'float'>\n",
      "<class 'str'>\n"
     ]
    }
   ],
   "source": [
    "x = 42\n",
    "y = 3.14\n",
    "z = \"Python\"\n",
    "print(type(x)) \n",
    "print(type(y))  \n",
    "print(type(z))  \n"
   ]
  },
  {
   "cell_type": "code",
   "execution_count": 28,
   "id": "e31f2447-9074-4ff4-9915-5015c173cc1f",
   "metadata": {},
   "outputs": [
    {
     "name": "stdout",
     "output_type": "stream",
     "text": [
      "3\n"
     ]
    }
   ],
   "source": [
    "float_num = 3.99\n",
    "int_num = int(float_num)\n",
    "print(int_num)  \n"
   ]
  },
  {
   "cell_type": "code",
   "execution_count": 29,
   "id": "c7227015-7e56-4469-ab16-2990db4f7550",
   "metadata": {},
   "outputs": [
    {
     "name": "stdin",
     "output_type": "stream",
     "text": [
      "Enter something:  12\n"
     ]
    },
    {
     "name": "stdout",
     "output_type": "stream",
     "text": [
      "It's a number!\n"
     ]
    }
   ],
   "source": [
    "user_input = input(\"Enter something: \")\n",
    "if user_input.isdigit():\n",
    "    print(\"It's a number!\")\n",
    "else:\n",
    "    print(\"It's a string!\")\n"
   ]
  },
  {
   "cell_type": "code",
   "execution_count": 30,
   "id": "03849e40-4fc4-4e9c-b514-cb9ab4355ef3",
   "metadata": {},
   "outputs": [
    {
     "name": "stdout",
     "output_type": "stream",
     "text": [
      "5\n",
      "3\n",
      "3\n"
     ]
    }
   ],
   "source": [
    "my_list = [1, 2, 3, 4, 5]\n",
    "my_tuple = (1, 2, 3)\n",
    "my_dict = {\"a\": 1, \"b\": 2, \"c\": 3}\n",
    "print(len(my_list))  \n",
    "print(len(my_tuple))  \n",
    "print(len(my_dict))  \n"
   ]
  },
  {
   "cell_type": "code",
   "execution_count": 32,
   "id": "b6e8b50f-1ba3-4a08-9c86-863cd85391c8",
   "metadata": {},
   "outputs": [
    {
     "name": "stdout",
     "output_type": "stream",
     "text": [
      "Sum: 30\n"
     ]
    }
   ],
   "source": [
    "x, y, z = 5, 10, 15\n",
    "total = x + y + z\n",
    "print(\"Sum:\", total)\n"
   ]
  },
  {
   "cell_type": "code",
   "execution_count": 34,
   "id": "bc8b8d2d-851e-4b8f-b07f-f99726992902",
   "metadata": {},
   "outputs": [
    {
     "name": "stdout",
     "output_type": "stream",
     "text": [
      "Swapped values: 20 10\n"
     ]
    }
   ],
   "source": [
    "a, b = 10, 20\n",
    "a, b = b, a\n",
    "print(\"Swapped values:\", a, b)\n"
   ]
  },
  {
   "cell_type": "code",
   "execution_count": 35,
   "id": "db760975-e0d3-4175-9eee-191c0843121c",
   "metadata": {},
   "outputs": [
    {
     "name": "stdout",
     "output_type": "stream",
     "text": [
      "Hello, Alice\n"
     ]
    }
   ],
   "source": [
    "greeting = \"Hello\"\n",
    "name = \"Alice\"\n",
    "message = greeting + \", \" + name\n",
    "print(message)\n"
   ]
  },
  {
   "cell_type": "code",
   "execution_count": 37,
   "id": "e07d6177-78ce-4364-9c67-8f22ac8b918e",
   "metadata": {},
   "outputs": [
    {
     "name": "stdout",
     "output_type": "stream",
     "text": [
      "Result: 30\n"
     ]
    }
   ],
   "source": [
    "x = 5\n",
    "x += 10  # Adds 10 to x\n",
    "x *= 2   # Multiplies x by 2\n",
    "print(\"Result:\", x)\n"
   ]
  },
  {
   "cell_type": "code",
   "execution_count": 39,
   "id": "ff8ff8eb-9f38-4672-b39a-07c155e14d83",
   "metadata": {},
   "outputs": [
    {
     "name": "stdout",
     "output_type": "stream",
     "text": [
      "Area of the circle: 153.93804002589985\n"
     ]
    }
   ],
   "source": [
    "import math\n",
    "radius = 7\n",
    "area = math.pi * radius ** 2\n",
    "print(\"Area of the circle:\", area)\n"
   ]
  },
  {
   "cell_type": "code",
   "execution_count": 41,
   "id": "b5751edc-eb4c-421a-af8c-26468b38e0d2",
   "metadata": {},
   "outputs": [
    {
     "name": "stdout",
     "output_type": "stream",
     "text": [
      "Roots: 2.0 1.0\n"
     ]
    }
   ],
   "source": [
    "import math\n",
    "a, b, c = 1, -3, 2\n",
    "discriminant = b**2 - 4*a*c\n",
    "root1 = (-b + math.sqrt(discriminant)) / (2*a)\n",
    "root2 = (-b - math.sqrt(discriminant)) / (2*a)\n",
    "print(\"Roots:\", root1, root2)\n"
   ]
  },
  {
   "cell_type": "code",
   "execution_count": 43,
   "id": "83478df4-6763-44c1-92a1-24075030d09a",
   "metadata": {},
   "outputs": [
    {
     "name": "stdout",
     "output_type": "stream",
     "text": [
      "Memory location of var: 140708685035032\n"
     ]
    }
   ],
   "source": [
    "var = 100\n",
    "print(\"Memory location of var:\", id(var))\n"
   ]
  },
  {
   "cell_type": "code",
   "execution_count": 23,
   "id": "b6047a6d-2b81-4616-a714-d6d82b44922d",
   "metadata": {},
   "outputs": [
    {
     "name": "stdout",
     "output_type": "stream",
     "text": [
      "Hello, John! Welcome.\n"
     ]
    }
   ],
   "source": [
    "name = \"John\"\n",
    "print(f\"Hello, {name}! Welcome.\")\n"
   ]
  },
  {
   "cell_type": "code",
   "execution_count": 5,
   "id": "027082e5-1333-4f4a-ae69-f964e32b7563",
   "metadata": {},
   "outputs": [
    {
     "name": "stdout",
     "output_type": "stream",
     "text": [
      "Result: True\n"
     ]
    }
   ],
   "source": [
    "x, y = 10, 5\n",
    "result = (x + y > 10) and (x - y < 10)\n",
    "print(\"Result:\", result)\n"
   ]
  },
  {
   "cell_type": "code",
   "execution_count": 20,
   "id": "9a22425b-1cc3-49b7-9dae-5231d5e35537",
   "metadata": {},
   "outputs": [
    {
     "name": "stdout",
     "output_type": "stream",
     "text": [
      "(a + b)^2 = 49\n"
     ]
    }
   ],
   "source": [
    "a, b = 3, 4\n",
    "result = (a + b) ** 2\n",
    "print(\"(a + b)^2 =\", result)\n"
   ]
  },
  {
   "cell_type": "markdown",
   "id": "58f49452-ec50-4402-a607-eb2bec47bd08",
   "metadata": {},
   "source": [
    "# DAY 2"
   ]
  },
  {
   "cell_type": "markdown",
   "id": "2ed3d415-3034-433a-aa69-9434f86f0dfb",
   "metadata": {},
   "source": [
    "## Exercise 1 Strings"
   ]
  },
  {
   "cell_type": "code",
   "execution_count": 28,
   "id": "185ff46d-3723-4cf3-aeed-af946cb6a334",
   "metadata": {},
   "outputs": [],
   "source": [
    "a = \"Hello\"\n",
    "b= \"Python\""
   ]
  },
  {
   "cell_type": "code",
   "execution_count": 32,
   "id": "8e3b8913-a380-46ee-a3a0-3acbf098e2dc",
   "metadata": {},
   "outputs": [
    {
     "name": "stdout",
     "output_type": "stream",
     "text": [
      "Hello Python\n"
     ]
    }
   ],
   "source": [
    "print(a + \" \" + b)"
   ]
  },
  {
   "cell_type": "code",
   "execution_count": 34,
   "id": "ce6a4aa9-37dc-44ab-8258-f3f11e66dae2",
   "metadata": {},
   "outputs": [
    {
     "name": "stdout",
     "output_type": "stream",
     "text": [
      "24\n"
     ]
    }
   ],
   "source": [
    "# Calculate and print the length of the string\n",
    "text = \"Learn to code in Python!\"\n",
    "print(len(text))  \n"
   ]
  },
  {
   "cell_type": "code",
   "execution_count": 36,
   "id": "35fb6df0-7c09-4ce0-8ea4-4064e9a63077",
   "metadata": {},
   "outputs": [
    {
     "name": "stdout",
     "output_type": "stream",
     "text": [
      "Program\n"
     ]
    }
   ],
   "source": [
    "# Extract the substring \"Program\" from the string\n",
    "string = \"Python Programming\"\n",
    "substring = string[7:14]\n",
    "print(substring) \n"
   ]
  },
  {
   "cell_type": "code",
   "execution_count": 38,
   "id": "9eca15f8-128d-44c9-8316-f95a3c36bda6",
   "metadata": {},
   "outputs": [
    {
     "name": "stdout",
     "output_type": "stream",
     "text": [
      "PYTHON ROCKS!\n",
      "python rocks!\n",
      "Python Rocks!\n"
     ]
    }
   ],
   "source": [
    "# Convert \"Python Rocks!\" to different cases\n",
    "text = \"Python Rocks!\"\n",
    "print(text.upper())      \n",
    "print(text.lower())      \n",
    "print(text.title())      \n"
   ]
  },
  {
   "cell_type": "code",
   "execution_count": 40,
   "id": "b79a9002-ebbb-4ccc-a7e4-8f8b4edd80d8",
   "metadata": {},
   "outputs": [
    {
     "name": "stdout",
     "output_type": "stream",
     "text": [
      "Python is not good\n"
     ]
    }
   ],
   "source": [
    "# Replace \"bad\" with \"good\" in the string\n",
    "text = \"Python is not bad\"\n",
    "new_text = text.replace(\"bad\", \"good\")\n",
    "print(new_text)  \n"
   ]
  },
  {
   "cell_type": "code",
   "execution_count": 42,
   "id": "a1e44d04-d594-4dd0-a394-6fe72ede11e0",
   "metadata": {},
   "outputs": [
    {
     "name": "stdout",
     "output_type": "stream",
     "text": [
      "False\n"
     ]
    }
   ],
   "source": [
    "# Check if \"code\" exists in the string\n",
    "text = \"Coding is fun with Python\"\n",
    "print(\"code\" in text) \n"
   ]
  },
  {
   "cell_type": "code",
   "execution_count": 47,
   "id": "41df53b6-7c0a-44af-a9a2-8c30b1c9d791",
   "metadata": {},
   "outputs": [
    {
     "name": "stdout",
     "output_type": "stream",
     "text": [
      "nohtyP\n"
     ]
    }
   ],
   "source": [
    "# Reverse the string \"Python\"\n",
    "text = \"Python\"\n",
    "reversed_text = text[::-1]\n",
    "print(reversed_text)  \n"
   ]
  },
  {
   "cell_type": "code",
   "execution_count": 49,
   "id": "1cd0778a-3694-42ce-b5b2-8d8e249352fb",
   "metadata": {},
   "outputs": [
    {
     "name": "stdout",
     "output_type": "stream",
     "text": [
      "Learn-Python-the-easy-way\n"
     ]
    }
   ],
   "source": [
    "# Split and join the string\n",
    "text = \"Learn Python the easy way\"\n",
    "words = text.split()  \n",
    "joined_text = \"-\".join(words)  \n",
    "print(joined_text)  \n"
   ]
  },
  {
   "cell_type": "code",
   "execution_count": 51,
   "id": "cd31022b-ad73-4f06-b5a4-d9972f2e8793",
   "metadata": {},
   "outputs": [
    {
     "name": "stdout",
     "output_type": "stream",
     "text": [
      "6\n"
     ]
    }
   ],
   "source": [
    "# Count how many times 'a' appears in the string\n",
    "text = \"banana apple avocado\"\n",
    "count_a = text.count('a')\n",
    "print(count_a) \n"
   ]
  },
  {
   "cell_type": "code",
   "execution_count": 58,
   "id": "3c2358df-47a0-42cf-b20f-c0a1d2c432bc",
   "metadata": {},
   "outputs": [
    {
     "name": "stdout",
     "output_type": "stream",
     "text": [
      "I scored 95 in Python, which is awesome!\n"
     ]
    }
   ],
   "source": [
    "# Use f-strings to format and print the sentence\n",
    "score = 95\n",
    "subject = \"Python\"\n",
    "message = f\"I scored {score} in {subject}, which is awesome!\"\n",
    "print(message)  \n"
   ]
  },
  {
   "cell_type": "markdown",
   "id": "2456f4f5-a5b2-41e1-898e-07867c094779",
   "metadata": {},
   "source": [
    "## Exercise 2 Lists and Tuples"
   ]
  },
  {
   "cell_type": "code",
   "execution_count": 77,
   "id": "412f2302-3345-4795-aa62-910db605eb8f",
   "metadata": {},
   "outputs": [
    {
     "name": "stdout",
     "output_type": "stream",
     "text": [
      "apple\n",
      "elderberry\n"
     ]
    }
   ],
   "source": [
    "fruits = [\"apple\", \"banana\", \"cherry\", \"date\", \"elderberry\"]\n",
    "print(fruits[0])  \n",
    "print(fruits[-1])  \n"
   ]
  },
  {
   "cell_type": "code",
   "execution_count": 78,
   "id": "3c901995-c4f7-4e22-a887-2f8e2328f09e",
   "metadata": {},
   "outputs": [
    {
     "name": "stdout",
     "output_type": "stream",
     "text": [
      "['apple', 'blueberry', 'date', 'elderberry', 'fig']\n"
     ]
    }
   ],
   "source": [
    "fruits.append(\"fig\")  \n",
    "fruits.remove(\"cherry\")  \n",
    "fruits[1] = \"blueberry\"  \n",
    "print(fruits)\n",
    "\n"
   ]
  },
  {
   "cell_type": "code",
   "execution_count": 79,
   "id": "86b4ee0a-b9f3-43bf-8e9f-585f4464a4f9",
   "metadata": {},
   "outputs": [
    {
     "name": "stdout",
     "output_type": "stream",
     "text": [
      "['apple', 'blueberry', 'date', 'elderberry', 'fig']\n",
      "['fig', 'elderberry', 'date', 'blueberry', 'apple']\n"
     ]
    }
   ],
   "source": [
    "fruits.sort()  \n",
    "print(fruits)  \n",
    "\n",
    "fruits.reverse()  \n",
    "print(fruits)  \n"
   ]
  },
  {
   "cell_type": "code",
   "execution_count": 81,
   "id": "974024f9-c9e9-4330-8265-c7128e15b6ac",
   "metadata": {},
   "outputs": [
    {
     "name": "stdout",
     "output_type": "stream",
     "text": [
      "['Python', 'Java', 'C++']\n"
     ]
    }
   ],
   "source": [
    "languages = [\"Python\", \"Java\", \"C++\", \"Ruby\", \"Go\"]\n",
    "print(languages[:3])  \n"
   ]
  },
  {
   "cell_type": "code",
   "execution_count": 83,
   "id": "95b7aea7-0750-4742-90d1-4d50b24da863",
   "metadata": {},
   "outputs": [
    {
     "name": "stdout",
     "output_type": "stream",
     "text": [
      "150\n"
     ]
    }
   ],
   "source": [
    "numbers = [10, 20, 30, 40, 50]\n",
    "print(sum(numbers))  \n"
   ]
  },
  {
   "cell_type": "code",
   "execution_count": 85,
   "id": "786076f2-4662-4787-be50-70a3ee7ba7d7",
   "metadata": {},
   "outputs": [
    {
     "name": "stdout",
     "output_type": "stream",
     "text": [
      "50\n",
      "10\n"
     ]
    }
   ],
   "source": [
    "numbers_tuple = (10, 20, 30, 40, 50)\n",
    "print(max(numbers_tuple))  \n",
    "print(min(numbers_tuple))  \n"
   ]
  },
  {
   "cell_type": "code",
   "execution_count": 87,
   "id": "5e808382-1e8e-4113-96e7-4aca4fc551e0",
   "metadata": {},
   "outputs": [
    {
     "name": "stdout",
     "output_type": "stream",
     "text": [
      "('red', 'green', 'blue')\n"
     ]
    }
   ],
   "source": [
    "colors = [\"red\", \"green\", \"blue\"]\n",
    "colors_tuple = tuple(colors)\n",
    "print(colors_tuple)  \n"
   ]
  },
  {
   "cell_type": "code",
   "execution_count": 89,
   "id": "8916315b-8a3a-4e44-a98f-f6290af06ab6",
   "metadata": {},
   "outputs": [
    {
     "name": "stdout",
     "output_type": "stream",
     "text": [
      "[1, 4, 9, 16, 25, 36, 49, 64, 81, 100]\n"
     ]
    }
   ],
   "source": [
    "squares = [x**2 for x in range(1, 11)]\n",
    "print(squares)  \n"
   ]
  },
  {
   "cell_type": "code",
   "execution_count": 91,
   "id": "29deb3d9-0dc6-4d1f-beb8-b65168289880",
   "metadata": {},
   "outputs": [
    {
     "name": "stdout",
     "output_type": "stream",
     "text": [
      "2\n"
     ]
    }
   ],
   "source": [
    "languages = [\"Python\", \"Java\", \"C++\", \"Ruby\", \"Go\"]\n",
    "index = languages.index(\"C++\")\n",
    "print(index)  \n"
   ]
  },
  {
   "cell_type": "markdown",
   "id": "e5c3c37f-d9e6-42d8-bd01-f378cfc2843b",
   "metadata": {},
   "source": [
    "## Exercise 3 : Dictionaries"
   ]
  },
  {
   "cell_type": "code",
   "execution_count": 106,
   "id": "6c59058f-eede-4a93-91d4-817cb105e86f",
   "metadata": {},
   "outputs": [
    {
     "name": "stdout",
     "output_type": "stream",
     "text": [
      "{'name': 'Alice', 'age': 25, 'city': 'New York'}\n"
     ]
    }
   ],
   "source": [
    "# Creating a dictionary\n",
    "person = {\"name\": \"Alice\", \"age\": 25, \"city\": \"New York\"}\n",
    "print(person)\n"
   ]
  },
  {
   "cell_type": "code",
   "execution_count": 95,
   "id": "3f2b4b9a-59a5-4fb3-affb-e0ea4c09b2d4",
   "metadata": {},
   "outputs": [
    {
     "name": "stdout",
     "output_type": "stream",
     "text": [
      "New York\n"
     ]
    }
   ],
   "source": [
    "# Access and print the value of \"city\"\n",
    "print(person[\"city\"])\n"
   ]
  },
  {
   "cell_type": "code",
   "execution_count": 104,
   "id": "cc31cc48-8a12-40bd-a54e-5a7d409cd8bd",
   "metadata": {},
   "outputs": [
    {
     "name": "stdout",
     "output_type": "stream",
     "text": [
      "{'name': 'Alice', 'age': 30, 'country': 'USA'}\n"
     ]
    }
   ],
   "source": [
    "# Update the \"age\" to 30\n",
    "person[\"age\"] = 30\n",
    "print(person)\n"
   ]
  },
  {
   "cell_type": "code",
   "execution_count": 103,
   "id": "54133754-a208-4163-bc7f-e8cc44b38b25",
   "metadata": {},
   "outputs": [
    {
     "name": "stdout",
     "output_type": "stream",
     "text": [
      "{'name': 'Alice', 'age': 30, 'country': 'USA'}\n"
     ]
    }
   ],
   "source": [
    "# Add a new key \"country\" with the value \"USA\"\n",
    "person[\"country\"] = \"USA\"\n",
    "print(person)\n"
   ]
  },
  {
   "cell_type": "code",
   "execution_count": 107,
   "id": "cabe00b7-b106-433e-92ca-09843a55e371",
   "metadata": {},
   "outputs": [
    {
     "name": "stdout",
     "output_type": "stream",
     "text": [
      "{'name': 'Alice', 'age': 25}\n"
     ]
    }
   ],
   "source": [
    "# Remove the \"city\" key from the dictionary\n",
    "del person[\"city\"]\n",
    "print(person)\n"
   ]
  },
  {
   "cell_type": "code",
   "execution_count": 109,
   "id": "bfab6532-ad28-4542-98f1-2ff93babf05b",
   "metadata": {},
   "outputs": [
    {
     "name": "stdout",
     "output_type": "stream",
     "text": [
      "Key 'name' exists.\n"
     ]
    }
   ],
   "source": [
    "# Check if the key \"name\" exists\n",
    "if \"name\" in person:\n",
    "    print(\"Key 'name' exists.\")\n",
    "else:\n",
    "    print(\"Key 'name' does not exist.\")\n"
   ]
  },
  {
   "cell_type": "code",
   "execution_count": 111,
   "id": "159a2a47-8c67-4a31-bd34-0090da026842",
   "metadata": {},
   "outputs": [
    {
     "name": "stdout",
     "output_type": "stream",
     "text": [
      "name: Alice\n",
      "age: 25\n"
     ]
    }
   ],
   "source": [
    "# Iterate over the dictionary\n",
    "for key, value in person.items():\n",
    "    print(f\"{key}: {value}\")\n"
   ]
  },
  {
   "cell_type": "code",
   "execution_count": 118,
   "id": "77e25c04-d34d-42a8-b893-75ac06b622fb",
   "metadata": {},
   "outputs": [
    {
     "name": "stdout",
     "output_type": "stream",
     "text": [
      "{'x': 1, 'y': 3, 'z': 4}\n"
     ]
    }
   ],
   "source": [
    "# Merge two dictionaries\n",
    "dict1 = {\"x\": 1, \"y\": 2}\n",
    "dict2 = {\"y\": 3, \"z\": 4}\n",
    "merged_dict = {**dict1, **dict2}  \n",
    "print(merged_dict)\n"
   ]
  },
  {
   "cell_type": "code",
   "execution_count": 120,
   "id": "3d9060a0-8516-49e0-a4a0-59507a2b4a1f",
   "metadata": {},
   "outputs": [
    {
     "name": "stdout",
     "output_type": "stream",
     "text": [
      "Keys: ['Python', 'Java', 'C++']\n",
      "Values: [1991, 1995, 1985]\n"
     ]
    }
   ],
   "source": [
    "# Print all keys and values\n",
    "languages = {\"Python\": 1991, \"Java\": 1995, \"C++\": 1985}\n",
    "print(\"Keys:\", list(languages.keys()))\n",
    "print(\"Values:\", list(languages.values()))\n"
   ]
  },
  {
   "cell_type": "code",
   "execution_count": 122,
   "id": "1ef61fc5-3692-4b66-968c-e8b565d3eb8b",
   "metadata": {},
   "outputs": [
    {
     "name": "stdout",
     "output_type": "stream",
     "text": [
      "{1: 1, 2: 4, 3: 9, 4: 16, 5: 25}\n"
     ]
    }
   ],
   "source": [
    "# Create a dictionary where keys are numbers from 1 to 5 and values are their squares\n",
    "squares = {x: x**2 for x in range(1, 6)}\n",
    "print(squares)\n"
   ]
  },
  {
   "cell_type": "markdown",
   "id": "06611ab2-28b4-4a5d-88b4-8658b2a7a849",
   "metadata": {},
   "source": [
    "## Exercise 4: Sets"
   ]
  },
  {
   "cell_type": "code",
   "execution_count": 124,
   "id": "8d06f4f1-823a-471d-b8a6-7692fa4abec3",
   "metadata": {},
   "outputs": [
    {
     "name": "stdout",
     "output_type": "stream",
     "text": [
      "{'green', 'red', 'blue'}\n"
     ]
    }
   ],
   "source": [
    "colors = {\"red\", \"green\", \"blue\"}\n",
    "print(colors)\n"
   ]
  },
  {
   "cell_type": "code",
   "execution_count": 126,
   "id": "27d21816-cbad-458c-ade7-db103a7cfd45",
   "metadata": {},
   "outputs": [
    {
     "name": "stdout",
     "output_type": "stream",
     "text": [
      "{'green', 'red', 'blue', 'yellow'}\n"
     ]
    }
   ],
   "source": [
    "colors.add(\"yellow\")\n",
    "print(colors)\n"
   ]
  },
  {
   "cell_type": "code",
   "execution_count": 127,
   "id": "e8861bd3-2c00-4c60-bdfb-671d19fc2e49",
   "metadata": {},
   "outputs": [
    {
     "name": "stdout",
     "output_type": "stream",
     "text": [
      "{'red', 'blue', 'yellow'}\n"
     ]
    }
   ],
   "source": [
    "colors.remove(\"green\")\n",
    "print(colors)\n"
   ]
  },
  {
   "cell_type": "code",
   "execution_count": 129,
   "id": "4804625c-d600-4e7b-a8ce-80de778d0377",
   "metadata": {},
   "outputs": [
    {
     "name": "stdout",
     "output_type": "stream",
     "text": [
      "True\n"
     ]
    }
   ],
   "source": [
    "print(\"blue\" in colors)\n"
   ]
  },
  {
   "cell_type": "code",
   "execution_count": 131,
   "id": "0f9c731a-4a32-4d42-b91a-5f66cc49bb91",
   "metadata": {},
   "outputs": [
    {
     "name": "stdout",
     "output_type": "stream",
     "text": [
      "{1, 2, 3, 4, 5}\n"
     ]
    }
   ],
   "source": [
    "set1 = {1, 2, 3}\n",
    "set2 = {3, 4, 5}\n",
    "union_set = set1.union(set2)\n",
    "print(union_set)\n"
   ]
  },
  {
   "cell_type": "code",
   "execution_count": 133,
   "id": "60a63249-f110-4077-9447-5157b41509f6",
   "metadata": {},
   "outputs": [
    {
     "name": "stdout",
     "output_type": "stream",
     "text": [
      "{3}\n"
     ]
    }
   ],
   "source": [
    "intersection_set = set1.intersection(set2)\n",
    "print(intersection_set)\n"
   ]
  },
  {
   "cell_type": "code",
   "execution_count": 135,
   "id": "35d255f1-24dc-4e14-bf20-4d6b58451d07",
   "metadata": {},
   "outputs": [
    {
     "name": "stdout",
     "output_type": "stream",
     "text": [
      "{1, 2}\n"
     ]
    }
   ],
   "source": [
    "difference_set = set1.difference(set2)\n",
    "print(difference_set)\n"
   ]
  },
  {
   "cell_type": "code",
   "execution_count": 137,
   "id": "56a1cd96-3e23-49a2-a560-24faa05dc303",
   "metadata": {},
   "outputs": [
    {
     "name": "stdout",
     "output_type": "stream",
     "text": [
      "5\n"
     ]
    }
   ],
   "source": [
    "set_length = len({1, 2, 3, 4, 5})\n",
    "print(set_length)\n"
   ]
  },
  {
   "cell_type": "code",
   "execution_count": 139,
   "id": "969c4ed8-cf52-4ebe-afca-174d70b117d2",
   "metadata": {},
   "outputs": [
    {
     "name": "stdout",
     "output_type": "stream",
     "text": [
      "True\n",
      "True\n"
     ]
    }
   ],
   "source": [
    "set1 = {1, 2}\n",
    "set2 = {1, 2, 3, 4}\n",
    "print(set1.issubset(set2))  \n",
    "print(set2.issuperset(set1))  \n"
   ]
  },
  {
   "cell_type": "code",
   "execution_count": 140,
   "id": "3072f1d0-b557-4a13-9078-2acb6ac6a4d1",
   "metadata": {},
   "outputs": [
    {
     "name": "stdout",
     "output_type": "stream",
     "text": [
      "{1, 2, 3, 4}\n"
     ]
    }
   ],
   "source": [
    "numbers = [1, 2, 2, 3, 4, 4]\n",
    "unique_numbers = set(numbers)\n",
    "print(unique_numbers)\n"
   ]
  }
 ],
 "metadata": {
  "kernelspec": {
   "display_name": "Python 3 (ipykernel)",
   "language": "python",
   "name": "python3"
  },
  "language_info": {
   "codemirror_mode": {
    "name": "ipython",
    "version": 3
   },
   "file_extension": ".py",
   "mimetype": "text/x-python",
   "name": "python",
   "nbconvert_exporter": "python",
   "pygments_lexer": "ipython3",
   "version": "3.12.7"
  }
 },
 "nbformat": 4,
 "nbformat_minor": 5
}
